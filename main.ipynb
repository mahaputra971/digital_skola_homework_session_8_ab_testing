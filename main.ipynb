{
 "cells": [
  {
   "cell_type": "code",
   "execution_count": 3,
   "metadata": {},
   "outputs": [],
   "source": [
    "import pandas as pd\n",
    "import numpy as np\n",
    "import seaborn as sns\n",
    "import matplotlib.pyplot as plt\n",
    "from scipy import stats\n",
    "from scipy.stats import norm"
   ]
  },
  {
   "cell_type": "code",
   "execution_count": 4,
   "metadata": {},
   "outputs": [
    {
     "name": "stdout",
     "output_type": "stream",
     "text": [
      "<class 'pandas.core.frame.DataFrame'>\n",
      "RangeIndex: 1000 entries, 0 to 999\n",
      "Data columns (total 14 columns):\n",
      " #   Column                    Non-Null Count  Dtype  \n",
      "---  ------                    --------------  -----  \n",
      " 0   period                    1000 non-null   object \n",
      " 1   cohort_date               1000 non-null   object \n",
      " 2   variant                   505 non-null    object \n",
      " 3   user_id                   1000 non-null   object \n",
      " 4   country                   1000 non-null   object \n",
      " 5   platform                  1000 non-null   object \n",
      " 6   traffic_source            1000 non-null   object \n",
      " 7   device_model              1000 non-null   object \n",
      " 8   age                       1000 non-null   int64  \n",
      " 9   sessions_7d               1000 non-null   int64  \n",
      " 10  time_to_first_action_min  1000 non-null   float64\n",
      " 11  trial_start               1000 non-null   int64  \n",
      " 12  paid_subscriber           1000 non-null   int64  \n",
      " 13  revenue_30d               1000 non-null   float64\n",
      "dtypes: float64(2), int64(4), object(8)\n",
      "memory usage: 109.5+ KB\n"
     ]
    }
   ],
   "source": [
    "df = pd.read_csv('homework_ab_app_subscription_small.csv')\n",
    "df.info()"
   ]
  },
  {
   "cell_type": "code",
   "execution_count": 5,
   "metadata": {},
   "outputs": [
    {
     "data": {
      "text/html": [
       "<div>\n",
       "<style scoped>\n",
       "    .dataframe tbody tr th:only-of-type {\n",
       "        vertical-align: middle;\n",
       "    }\n",
       "\n",
       "    .dataframe tbody tr th {\n",
       "        vertical-align: top;\n",
       "    }\n",
       "\n",
       "    .dataframe thead th {\n",
       "        text-align: right;\n",
       "    }\n",
       "</style>\n",
       "<table border=\"1\" class=\"dataframe\">\n",
       "  <thead>\n",
       "    <tr style=\"text-align: right;\">\n",
       "      <th></th>\n",
       "      <th>period</th>\n",
       "      <th>cohort_date</th>\n",
       "      <th>variant</th>\n",
       "      <th>user_id</th>\n",
       "      <th>country</th>\n",
       "      <th>platform</th>\n",
       "      <th>traffic_source</th>\n",
       "      <th>device_model</th>\n",
       "      <th>age</th>\n",
       "      <th>sessions_7d</th>\n",
       "      <th>time_to_first_action_min</th>\n",
       "      <th>trial_start</th>\n",
       "      <th>paid_subscriber</th>\n",
       "      <th>revenue_30d</th>\n",
       "    </tr>\n",
       "  </thead>\n",
       "  <tbody>\n",
       "    <tr>\n",
       "      <th>0</th>\n",
       "      <td>during</td>\n",
       "      <td>2025-07-05</td>\n",
       "      <td>B</td>\n",
       "      <td>APP201334</td>\n",
       "      <td>ID</td>\n",
       "      <td>android</td>\n",
       "      <td>organic</td>\n",
       "      <td>low_end</td>\n",
       "      <td>54</td>\n",
       "      <td>4</td>\n",
       "      <td>6.1</td>\n",
       "      <td>0</td>\n",
       "      <td>0</td>\n",
       "      <td>400.0</td>\n",
       "    </tr>\n",
       "    <tr>\n",
       "      <th>1</th>\n",
       "      <td>before</td>\n",
       "      <td>2025-06-28</td>\n",
       "      <td>NaN</td>\n",
       "      <td>APP100371</td>\n",
       "      <td>ID</td>\n",
       "      <td>ios</td>\n",
       "      <td>social</td>\n",
       "      <td>flagship</td>\n",
       "      <td>38</td>\n",
       "      <td>5</td>\n",
       "      <td>6.6</td>\n",
       "      <td>0</td>\n",
       "      <td>0</td>\n",
       "      <td>200.0</td>\n",
       "    </tr>\n",
       "    <tr>\n",
       "      <th>2</th>\n",
       "      <td>before</td>\n",
       "      <td>2025-06-30</td>\n",
       "      <td>NaN</td>\n",
       "      <td>APP105351</td>\n",
       "      <td>IN</td>\n",
       "      <td>android</td>\n",
       "      <td>social</td>\n",
       "      <td>flagship</td>\n",
       "      <td>45</td>\n",
       "      <td>6</td>\n",
       "      <td>9.7</td>\n",
       "      <td>0</td>\n",
       "      <td>0</td>\n",
       "      <td>300.0</td>\n",
       "    </tr>\n",
       "    <tr>\n",
       "      <th>3</th>\n",
       "      <td>before</td>\n",
       "      <td>2025-06-20</td>\n",
       "      <td>NaN</td>\n",
       "      <td>APP103745</td>\n",
       "      <td>ID</td>\n",
       "      <td>android</td>\n",
       "      <td>organic</td>\n",
       "      <td>mid_range</td>\n",
       "      <td>52</td>\n",
       "      <td>5</td>\n",
       "      <td>3.2</td>\n",
       "      <td>0</td>\n",
       "      <td>0</td>\n",
       "      <td>500.0</td>\n",
       "    </tr>\n",
       "    <tr>\n",
       "      <th>4</th>\n",
       "      <td>during</td>\n",
       "      <td>2025-07-04</td>\n",
       "      <td>A</td>\n",
       "      <td>APP201596</td>\n",
       "      <td>ID</td>\n",
       "      <td>android</td>\n",
       "      <td>organic</td>\n",
       "      <td>low_end</td>\n",
       "      <td>24</td>\n",
       "      <td>2</td>\n",
       "      <td>6.5</td>\n",
       "      <td>0</td>\n",
       "      <td>0</td>\n",
       "      <td>500.0</td>\n",
       "    </tr>\n",
       "  </tbody>\n",
       "</table>\n",
       "</div>"
      ],
      "text/plain": [
       "   period cohort_date variant    user_id country platform traffic_source  \\\n",
       "0  during  2025-07-05       B  APP201334      ID  android        organic   \n",
       "1  before  2025-06-28     NaN  APP100371      ID      ios         social   \n",
       "2  before  2025-06-30     NaN  APP105351      IN  android         social   \n",
       "3  before  2025-06-20     NaN  APP103745      ID  android        organic   \n",
       "4  during  2025-07-04       A  APP201596      ID  android        organic   \n",
       "\n",
       "  device_model  age  sessions_7d  time_to_first_action_min  trial_start  \\\n",
       "0      low_end   54            4                       6.1            0   \n",
       "1     flagship   38            5                       6.6            0   \n",
       "2     flagship   45            6                       9.7            0   \n",
       "3    mid_range   52            5                       3.2            0   \n",
       "4      low_end   24            2                       6.5            0   \n",
       "\n",
       "   paid_subscriber  revenue_30d  \n",
       "0                0        400.0  \n",
       "1                0        200.0  \n",
       "2                0        300.0  \n",
       "3                0        500.0  \n",
       "4                0        500.0  "
      ]
     },
     "execution_count": 5,
     "metadata": {},
     "output_type": "execute_result"
    }
   ],
   "source": [
    "df.head()"
   ]
  },
  {
   "cell_type": "markdown",
   "metadata": {},
   "source": [
    "### Data Preparation"
   ]
  },
  {
   "cell_type": "code",
   "execution_count": 6,
   "metadata": {},
   "outputs": [
    {
     "name": "stdout",
     "output_type": "stream",
     "text": [
      "\n",
      "Jumlah user di Varian A: 257\n",
      "Jumlah user di Varian B: 248\n"
     ]
    }
   ],
   "source": [
    "# Memfilter data untuk hanya menyertakan periode eksperimen ('during')\n",
    "# df_experiment = df[df['period'] == 'during'].copy()\n",
    "df_experiment = df.copy()\n",
    "df_a = df_experiment[df_experiment['variant'] == 'A'].copy()\n",
    "df_b = df_experiment[df_experiment['variant'] == 'B'].copy()\n",
    "\n",
    "print(f\"\\nJumlah user di Varian A: {len(df_a)}\")\n",
    "print(f\"Jumlah user di Varian B: {len(df_b)}\")"
   ]
  },
  {
   "cell_type": "code",
   "execution_count": 7,
   "metadata": {},
   "outputs": [
    {
     "data": {
      "text/html": [
       "<div>\n",
       "<style scoped>\n",
       "    .dataframe tbody tr th:only-of-type {\n",
       "        vertical-align: middle;\n",
       "    }\n",
       "\n",
       "    .dataframe tbody tr th {\n",
       "        vertical-align: top;\n",
       "    }\n",
       "\n",
       "    .dataframe thead th {\n",
       "        text-align: right;\n",
       "    }\n",
       "</style>\n",
       "<table border=\"1\" class=\"dataframe\">\n",
       "  <thead>\n",
       "    <tr style=\"text-align: right;\">\n",
       "      <th></th>\n",
       "      <th>age</th>\n",
       "      <th>sessions_7d</th>\n",
       "      <th>time_to_first_action_min</th>\n",
       "      <th>trial_start</th>\n",
       "      <th>paid_subscriber</th>\n",
       "      <th>revenue_30d</th>\n",
       "    </tr>\n",
       "  </thead>\n",
       "  <tbody>\n",
       "    <tr>\n",
       "      <th>count</th>\n",
       "      <td>257.000000</td>\n",
       "      <td>257.000000</td>\n",
       "      <td>257.000000</td>\n",
       "      <td>257.000000</td>\n",
       "      <td>257.000000</td>\n",
       "      <td>257.000000</td>\n",
       "    </tr>\n",
       "    <tr>\n",
       "      <th>mean</th>\n",
       "      <td>35.424125</td>\n",
       "      <td>5.303502</td>\n",
       "      <td>5.847471</td>\n",
       "      <td>0.178988</td>\n",
       "      <td>0.031128</td>\n",
       "      <td>3239.299611</td>\n",
       "    </tr>\n",
       "    <tr>\n",
       "      <th>std</th>\n",
       "      <td>10.623303</td>\n",
       "      <td>2.376913</td>\n",
       "      <td>4.049615</td>\n",
       "      <td>0.384091</td>\n",
       "      <td>0.174004</td>\n",
       "      <td>19166.001094</td>\n",
       "    </tr>\n",
       "    <tr>\n",
       "      <th>min</th>\n",
       "      <td>17.000000</td>\n",
       "      <td>0.000000</td>\n",
       "      <td>0.200000</td>\n",
       "      <td>0.000000</td>\n",
       "      <td>0.000000</td>\n",
       "      <td>0.000000</td>\n",
       "    </tr>\n",
       "    <tr>\n",
       "      <th>25%</th>\n",
       "      <td>27.000000</td>\n",
       "      <td>4.000000</td>\n",
       "      <td>2.800000</td>\n",
       "      <td>0.000000</td>\n",
       "      <td>0.000000</td>\n",
       "      <td>100.000000</td>\n",
       "    </tr>\n",
       "    <tr>\n",
       "      <th>50%</th>\n",
       "      <td>35.000000</td>\n",
       "      <td>5.000000</td>\n",
       "      <td>5.200000</td>\n",
       "      <td>0.000000</td>\n",
       "      <td>0.000000</td>\n",
       "      <td>200.000000</td>\n",
       "    </tr>\n",
       "    <tr>\n",
       "      <th>75%</th>\n",
       "      <td>45.000000</td>\n",
       "      <td>7.000000</td>\n",
       "      <td>7.900000</td>\n",
       "      <td>0.000000</td>\n",
       "      <td>0.000000</td>\n",
       "      <td>400.000000</td>\n",
       "    </tr>\n",
       "    <tr>\n",
       "      <th>max</th>\n",
       "      <td>54.000000</td>\n",
       "      <td>14.000000</td>\n",
       "      <td>29.000000</td>\n",
       "      <td>1.000000</td>\n",
       "      <td>1.000000</td>\n",
       "      <td>210900.000000</td>\n",
       "    </tr>\n",
       "  </tbody>\n",
       "</table>\n",
       "</div>"
      ],
      "text/plain": [
       "              age  sessions_7d  time_to_first_action_min  trial_start  \\\n",
       "count  257.000000   257.000000                257.000000   257.000000   \n",
       "mean    35.424125     5.303502                  5.847471     0.178988   \n",
       "std     10.623303     2.376913                  4.049615     0.384091   \n",
       "min     17.000000     0.000000                  0.200000     0.000000   \n",
       "25%     27.000000     4.000000                  2.800000     0.000000   \n",
       "50%     35.000000     5.000000                  5.200000     0.000000   \n",
       "75%     45.000000     7.000000                  7.900000     0.000000   \n",
       "max     54.000000    14.000000                 29.000000     1.000000   \n",
       "\n",
       "       paid_subscriber    revenue_30d  \n",
       "count       257.000000     257.000000  \n",
       "mean          0.031128    3239.299611  \n",
       "std           0.174004   19166.001094  \n",
       "min           0.000000       0.000000  \n",
       "25%           0.000000     100.000000  \n",
       "50%           0.000000     200.000000  \n",
       "75%           0.000000     400.000000  \n",
       "max           1.000000  210900.000000  "
      ]
     },
     "execution_count": 7,
     "metadata": {},
     "output_type": "execute_result"
    }
   ],
   "source": [
    "df_a.describe()"
   ]
  },
  {
   "cell_type": "code",
   "execution_count": 8,
   "metadata": {},
   "outputs": [
    {
     "data": {
      "text/html": [
       "<div>\n",
       "<style scoped>\n",
       "    .dataframe tbody tr th:only-of-type {\n",
       "        vertical-align: middle;\n",
       "    }\n",
       "\n",
       "    .dataframe tbody tr th {\n",
       "        vertical-align: top;\n",
       "    }\n",
       "\n",
       "    .dataframe thead th {\n",
       "        text-align: right;\n",
       "    }\n",
       "</style>\n",
       "<table border=\"1\" class=\"dataframe\">\n",
       "  <thead>\n",
       "    <tr style=\"text-align: right;\">\n",
       "      <th></th>\n",
       "      <th>age</th>\n",
       "      <th>sessions_7d</th>\n",
       "      <th>time_to_first_action_min</th>\n",
       "      <th>trial_start</th>\n",
       "      <th>paid_subscriber</th>\n",
       "      <th>revenue_30d</th>\n",
       "    </tr>\n",
       "  </thead>\n",
       "  <tbody>\n",
       "    <tr>\n",
       "      <th>count</th>\n",
       "      <td>248.000000</td>\n",
       "      <td>248.000000</td>\n",
       "      <td>248.000000</td>\n",
       "      <td>248.000000</td>\n",
       "      <td>248.000000</td>\n",
       "      <td>248.000000</td>\n",
       "    </tr>\n",
       "    <tr>\n",
       "      <th>mean</th>\n",
       "      <td>35.322581</td>\n",
       "      <td>5.153226</td>\n",
       "      <td>5.451210</td>\n",
       "      <td>0.169355</td>\n",
       "      <td>0.024194</td>\n",
       "      <td>2638.709677</td>\n",
       "    </tr>\n",
       "    <tr>\n",
       "      <th>std</th>\n",
       "      <td>11.246267</td>\n",
       "      <td>2.482471</td>\n",
       "      <td>3.884746</td>\n",
       "      <td>0.375824</td>\n",
       "      <td>0.153960</td>\n",
       "      <td>16309.562083</td>\n",
       "    </tr>\n",
       "    <tr>\n",
       "      <th>min</th>\n",
       "      <td>17.000000</td>\n",
       "      <td>0.000000</td>\n",
       "      <td>0.300000</td>\n",
       "      <td>0.000000</td>\n",
       "      <td>0.000000</td>\n",
       "      <td>0.000000</td>\n",
       "    </tr>\n",
       "    <tr>\n",
       "      <th>25%</th>\n",
       "      <td>25.000000</td>\n",
       "      <td>3.000000</td>\n",
       "      <td>2.500000</td>\n",
       "      <td>0.000000</td>\n",
       "      <td>0.000000</td>\n",
       "      <td>100.000000</td>\n",
       "    </tr>\n",
       "    <tr>\n",
       "      <th>50%</th>\n",
       "      <td>36.500000</td>\n",
       "      <td>5.000000</td>\n",
       "      <td>4.700000</td>\n",
       "      <td>0.000000</td>\n",
       "      <td>0.000000</td>\n",
       "      <td>300.000000</td>\n",
       "    </tr>\n",
       "    <tr>\n",
       "      <th>75%</th>\n",
       "      <td>45.000000</td>\n",
       "      <td>7.000000</td>\n",
       "      <td>7.050000</td>\n",
       "      <td>0.000000</td>\n",
       "      <td>0.000000</td>\n",
       "      <td>400.000000</td>\n",
       "    </tr>\n",
       "    <tr>\n",
       "      <th>max</th>\n",
       "      <td>54.000000</td>\n",
       "      <td>13.000000</td>\n",
       "      <td>21.400000</td>\n",
       "      <td>1.000000</td>\n",
       "      <td>1.000000</td>\n",
       "      <td>176300.000000</td>\n",
       "    </tr>\n",
       "  </tbody>\n",
       "</table>\n",
       "</div>"
      ],
      "text/plain": [
       "              age  sessions_7d  time_to_first_action_min  trial_start  \\\n",
       "count  248.000000   248.000000                248.000000   248.000000   \n",
       "mean    35.322581     5.153226                  5.451210     0.169355   \n",
       "std     11.246267     2.482471                  3.884746     0.375824   \n",
       "min     17.000000     0.000000                  0.300000     0.000000   \n",
       "25%     25.000000     3.000000                  2.500000     0.000000   \n",
       "50%     36.500000     5.000000                  4.700000     0.000000   \n",
       "75%     45.000000     7.000000                  7.050000     0.000000   \n",
       "max     54.000000    13.000000                 21.400000     1.000000   \n",
       "\n",
       "       paid_subscriber    revenue_30d  \n",
       "count       248.000000     248.000000  \n",
       "mean          0.024194    2638.709677  \n",
       "std           0.153960   16309.562083  \n",
       "min           0.000000       0.000000  \n",
       "25%           0.000000     100.000000  \n",
       "50%           0.000000     300.000000  \n",
       "75%           0.000000     400.000000  \n",
       "max           1.000000  176300.000000  "
      ]
     },
     "execution_count": 8,
     "metadata": {},
     "output_type": "execute_result"
    }
   ],
   "source": [
    "df_b.describe()"
   ]
  },
  {
   "cell_type": "markdown",
   "metadata": {},
   "source": [
    "### Cek Normality"
   ]
  },
  {
   "cell_type": "code",
   "execution_count": 9,
   "metadata": {},
   "outputs": [
    {
     "name": "stdout",
     "output_type": "stream",
     "text": [
      "jika salah satu varian memiliki p-value < 0.05 maka bisa disimpulkan tidak terdistribusi normal, maka Cek Variansi akan diabaikan\n",
      "\n",
      "Shapiro-Wilk test for Variant A: p-value=0.00000000000000000000000000000002239611842899680519\n",
      "Shapiro-Wilk test for Variant B: p-value=0.00000000000000000000000000000004354450283149566184\n"
     ]
    }
   ],
   "source": [
    "shapiro_A = stats.shapiro(df_a['revenue_30d'])\n",
    "shapiro_B = stats.shapiro(df_b['revenue_30d'])\n",
    "\n",
    "print(\"jika salah satu varian memiliki p-value < 0.05 maka bisa disimpulkan tidak terdistribusi normal, maka Cek Variansi akan diabaikan\\n\")\n",
    "\n",
    "print(\"Shapiro-Wilk test for Variant A: p-value={:.50f}\".format(shapiro_A.pvalue))\n",
    "print(\"Shapiro-Wilk test for Variant B: p-value={:.50f}\".format(shapiro_B.pvalue))"
   ]
  },
  {
   "cell_type": "code",
   "execution_count": 10,
   "metadata": {},
   "outputs": [
    {
     "data": {
      "image/png": "[encoded data removed]",
      "text/plain": [
       "<Figure size 1200x600 with 2 Axes>"
      ]
     },
     "metadata": {},
     "output_type": "display_data"
    }
   ],
   "source": [
    "# Data untuk Variant A dan Variant B\n",
    "data_a = df_a['revenue_30d']\n",
    "data_b = df_b['revenue_30d']\n",
    "\n",
    "# Plot untuk Variant A\n",
    "plt.figure(figsize=(12, 6))\n",
    "\n",
    "# Histogram untuk Variant A\n",
    "plt.subplot(1, 2, 1)\n",
    "plt.hist(data_a, bins=30, density=True, alpha=0.6, color='skyblue', edgecolor='black')\n",
    "mean_a, std_a = np.mean(data_a), np.std(data_a)\n",
    "xmin, xmax = plt.xlim()\n",
    "x = np.linspace(xmin, xmax, 100)\n",
    "p = norm.pdf(x, mean_a, std_a)\n",
    "plt.plot(x, p, 'r', linewidth=2)\n",
    "plt.title('Variant A: Histogram & Curve')\n",
    "plt.xlabel('Revenue (30d)')\n",
    "plt.ylabel('Density')\n",
    "\n",
    "# Plot untuk Variant B\n",
    "plt.subplot(1, 2, 2)\n",
    "plt.hist(data_b, bins=30, density=True, alpha=0.6, color='lightgreen', edgecolor='black')\n",
    "mean_b, std_b = np.mean(data_b), np.std(data_b)\n",
    "xmin, xmax = plt.xlim()\n",
    "x = np.linspace(xmin, xmax, 100)\n",
    "p = norm.pdf(x, mean_b, std_b)\n",
    "plt.plot(x, p, 'r', linewidth=2)\n",
    "plt.title('Variant B: Histogram & Curve')\n",
    "plt.xlabel('Revenue (30d)')\n",
    "plt.ylabel('Density')\n",
    "\n",
    "# Tampilkan plot\n",
    "plt.tight_layout()\n",
    "plt.show()"
   ]
  },
  {
   "cell_type": "markdown",
   "metadata": {},
   "source": [
    "### Cek Variansi"
   ]
  },
  {
   "cell_type": "code",
   "execution_count": 11,
   "metadata": {},
   "outputs": [
    {
     "name": "stdout",
     "output_type": "stream",
     "text": [
      "Salah satu varian tidak terdistribusi normal, maka cek variansi akan diabaikan\n"
     ]
    }
   ],
   "source": [
    "#Mengecheck tersebarnya data terdistribusi normal atau tidak\n",
    "if shapiro_A.pvalue < 0.05 or shapiro_B.pvalue < 0.05:\n",
    "    print(\"Salah satu varian tidak terdistribusi normal, maka cek variansi akan diabaikan\")\n",
    "else:\n",
    "    print(\"Kedua varian terdistribusi normal, lanjutkan cek variansi\")\n",
    "    cek_variansi = stats.levene(df_a['revenue_30d'], df_b['revenue_30d'])\n",
    "    # print(\"If p-value < 0.05 maka tidak homogen (equal variance)\")\n",
    "    print(\"Nilai p-value: {:.2f}\".format(cek_variansi.pvalue))\n",
    "    if cek_variansi.pvalue < 0.05:\n",
    "        cek_variansi_status = \"Data tidak homogen (equal variance), menggunakan Welch's t-test\"\n",
    "        print(cek_variansi_status)\n",
    "        stud = stats.ttest_ind(df_a['revenue_30d'], df_b['revenue_30d'], equal_var=False)\n",
    "    else:\n",
    "        cek_variansi_status = \"Data homogen (non equal variance), menggunakan t-test biasa\"\n",
    "        print(cek_variansi_status)\n",
    "        stud = stats.ttest_ind(df_a['revenue_30d'], df_b['revenue_30d'], equal_var=True)"
   ]
  },
  {
   "cell_type": "markdown",
   "metadata": {},
   "source": [
    "### Uji Statistik\n",
    "- H0: varian A dan varian B tidak ada bedanya terhadap revenue_30d.\n",
    "- H1: Varian B mampu meningkatkan order value dibanding varian A"
   ]
  },
  {
   "cell_type": "code",
   "execution_count": 12,
   "metadata": {},
   "outputs": [
    {
     "name": "stdout",
     "output_type": "stream",
     "text": [
      "\n",
      "Salah satu variant data tidak terdistribusi normal maka akan digunakan Mann-Whitney U Test:\n",
      "\n",
      "Accept (Fail to reject) H0\n",
      "Nilai p-value: 0.40\n"
     ]
    }
   ],
   "source": [
    "if shapiro_A.pvalue > 0.05 and shapiro_B.pvalue > 0.05:\n",
    "    #Mengecheck tersebarnya data terdistribusi normal atau tidak\n",
    "    print(\"\\nSemua variant data terdistribusi normal maka akan digunakan T-Test:\\n\")\n",
    "    print(\"Test \" + cek_variansi_status)\n",
    "\n",
    "    if stud.pvalue < 0.05:\n",
    "        print(\"Reject H0\")\n",
    "        h_status = 1\n",
    "    else:\n",
    "        print(\"Accept (Fail to reject) H0\")\n",
    "        h_status = 0\n",
    "else:\n",
    "    print(\"\\nSalah satu variant data tidak terdistribusi normal maka akan digunakan Mann-Whitney U Test:\\n\")\n",
    "    whitney = stats.mannwhitneyu(df_a['revenue_30d'], df_b['revenue_30d'])\n",
    "    if whitney.pvalue < 0.05:\n",
    "        print(\"Reject H0\")\n",
    "        h_status = 1\n",
    "    else:\n",
    "        print(\"Accept (Fail to reject) H0\")\n",
    "        h_status = 0\n",
    "    print(\"Nilai p-value: {:.2f}\".format(whitney.pvalue))"
   ]
  },
  {
   "cell_type": "markdown",
   "metadata": {},
   "source": [
    "## Uji Kenaikan Bisnis"
   ]
  },
  {
   "cell_type": "code",
   "execution_count": 13,
   "metadata": {},
   "outputs": [
    {
     "name": "stdout",
     "output_type": "stream",
     "text": [
      "\n",
      "t-test atau Mann-Whitney U Test memiliki status 'Accept (Fail to reject) H0', maka uji kenaikan bisnis tidak dilakukan\n",
      "\n"
     ]
    }
   ],
   "source": [
    "if h_status == 1:\n",
    "    print(\"\\nt-test atau Mann-Whitney U Test memiliki status 'Reject H0' maka akan dilakukan perhitungan uplift sebagai uji kenaikan bisnis\\n\")\n",
    "\n",
    "    mean_A = df_a['revenue_30d'].mean()\n",
    "    mean_B = df_b['revenue_30d'].mean()\n",
    "\n",
    "    uplift_abs = (mean_B - mean_A)\n",
    "    uplift_perc = round((mean_B - mean_A)/mean_A*100,2)\n",
    "\n",
    "    print(\"Uplift Absolut; \", uplift_abs)\n",
    "    print(\"Uplift Percent; {}%\".format(uplift_perc))\n",
    "else:\n",
    "    print(\"\\nt-test atau Mann-Whitney U Test memiliki status 'Accept (Fail to reject) H0', maka uji kenaikan bisnis tidak dilakukan\\n\")"
   ]
  },
  {
   "cell_type": "code",
   "execution_count": 14,
   "metadata": {},
   "outputs": [
    {
     "name": "stdout",
     "output_type": "stream",
     "text": [
      "\n",
      "t-test atau Mann-Whitney U Test memiliki status 'Accept (Fail to reject) H0', maka uji kenaikan bisnis tidak dilakukan\n",
      "\n"
     ]
    }
   ],
   "source": [
    "if h_status == 1:\n",
    "    print(\"\\nt-test atau Mann-Whitney U Test memiliki status 'Reject H0' maka akan dilakukan perhitungan uplift sebagai uji kenaikan bisnis\\n\")\n",
    "\n",
    "    mean_A = df_a['revenue_30d'].median()\n",
    "    mean_B = df_b['revenue_30d'].median()\n",
    "\n",
    "    uplift_abs = (mean_B - mean_A)\n",
    "    uplift_perc = round((mean_B - mean_A)/mean_A*100,2)\n",
    "\n",
    "    print(\"Uplift Absolut; \", uplift_abs)\n",
    "    print(\"Uplift Percent; {}%\".format(uplift_perc))\n",
    "else:\n",
    "    print(\"\\nt-test atau Mann-Whitney U Test memiliki status 'Accept (Fail to reject) H0', maka uji kenaikan bisnis tidak dilakukan\\n\")"
   ]
  },
  {
   "cell_type": "code",
   "execution_count": null,
   "metadata": {},
   "outputs": [],
   "source": [
    "''' \n",
    "Kesimpulan dari a/b testing ini menunjukkan bahwa: \n",
    "Tidak ada perbedaan signifikan antara varian A dan B dalam hal revenue_30d (pendapatan 30 hari).\n",
    "'''"
   ]
  }
 ],
 "metadata": {
  "kernelspec": {
   "display_name": "Python 3 (ipykernel)",
   "language": "python",
   "name": "python3"
  },
  "language_info": {
   "codemirror_mode": {
    "name": "ipython",
    "version": 3
   },
   "file_extension": ".py",
   "mimetype": "text/x-python",
   "name": "python",
   "nbconvert_exporter": "python",
   "pygments_lexer": "ipython3",
   "version": "3.12.11"
  }
 },
 "nbformat": 4,
 "nbformat_minor": 2
}
